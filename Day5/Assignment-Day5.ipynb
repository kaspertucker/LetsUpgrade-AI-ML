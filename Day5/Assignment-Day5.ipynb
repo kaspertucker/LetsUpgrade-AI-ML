{
 "cells": [
  {
   "cell_type": "markdown",
   "metadata": {},
   "source": [
    "<b>Question 1 :\n",
    "Write a Python program to find the first 20 non-even prime natural numbers"
   ]
  },
  {
   "cell_type": "code",
   "execution_count": 1,
   "metadata": {},
   "outputs": [
    {
     "name": "stdout",
     "output_type": "stream",
     "text": [
      "3 5 7 11 13 17 19 23 29 31 37 41 43 47 53 59 61 67 71 73 "
     ]
    }
   ],
   "source": [
    "# function declaration\n",
    "\n",
    "def primfunc(n):\n",
    "    for i in range(2,n):\n",
    "        if (n%i==0):\n",
    "            return False\n",
    "            break\n",
    "    return True\n",
    "\n",
    "#initiating variable counter c\n",
    "\n",
    "c=0\n",
    "for j in range(3,200):\n",
    "    if(primfunc(j)==True):\n",
    "        print(j,end=\" \")\n",
    "        c=c+1\n",
    "    if(c==20):\n",
    "        break\n",
    "\n"
   ]
  },
  {
   "cell_type": "markdown",
   "metadata": {},
   "source": [
    "<b>Question 2 :\n",
    "Write a Python program to implement 15 functions of string."
   ]
  },
  {
   "cell_type": "code",
   "execution_count": 3,
   "metadata": {},
   "outputs": [
    {
     "name": "stdout",
     "output_type": "stream",
     "text": [
      "1 Capitalize    Letsupgrade\n",
      "2 Center  ^^^^^^^letsupgrade^^^^^^^\n",
      "3 Casefold  łód\tź\n",
      "4 Endswith  False\n",
      "5 Zfill   000000000letsupgrade\n",
      "6 Expandtabs  Łód                                               ź\n",
      "7 Encode  b'\\xc5\\x81\\xc3\\xb3d\\t\\xc5\\xba'\n",
      "8 Find  4\n",
      "9 Format.\n",
      "10 isDigit False\n",
      "11 isidetifier True\n",
      "12 Translate  hsuuowolut\n",
      "13 Split  ['Łó', '\\tź']\n",
      "14 Join  lhelpehelpthelpshelpuhelpphelpghelprhelpahelpdhelpe\n",
      "15 Repalce  latsupgrada\n"
     ]
    }
   ],
   "source": [
    "str1 = 'letsupgrade'\n",
    "str99 = 'upgradelets'\n",
    "\n",
    "casefld = 'Łód\\tź'\n",
    "\n",
    "str2 = str1.capitalize()\n",
    "print('1 Capitalize   ', str2)\n",
    "\n",
    "str3 = str1.center(25, '^')\n",
    "print('2 Center ', str3)\n",
    "\n",
    "str4 = casefld.casefold()\n",
    "print('3 Casefold ', str4)\n",
    "\n",
    "str5 = str1.endswith('s')\n",
    "print('4 Endswith ', str5)\n",
    "\n",
    "print('5 Zfill  ', str1.zfill(20))\n",
    "\n",
    "print('6 Expandtabs ', casefld.expandtabs(50))\n",
    "\n",
    "print('7 Encode ', casefld.encode(encoding='UTF-8',errors='ignore'))\n",
    "\n",
    "strfind = casefld.find('ź')\n",
    "print('8 Find ', strfind)\n",
    "\n",
    "print(\"{} {}.\".format(\"9\", \"Format\"))\n",
    "\n",
    "print('10 isDigit', str1.isdigit())\n",
    "\n",
    "stridf = 'help'\n",
    "print('11 isidetifier' ,stridf.isidentifier())\n",
    "\n",
    "string1 = 'helloworld'\n",
    "strtrans = string1.maketrans(str1,str99)\n",
    "print(\"12 Translate \", string1.translate(strtrans))\n",
    "\n",
    "print(\"13 Split \", casefld.split('d',1))\n",
    "\n",
    "print(\"14 Join \", stridf.join(str1))\n",
    "\n",
    "print(\"15 Repalce \", str1.replace('e','a',2))"
   ]
  },
  {
   "cell_type": "markdown",
   "metadata": {},
   "source": [
    "<b>Question 3:\n",
    "Write a Python program to check if the given string is a Palindrome or Anagram or None of them.\n",
    "Display the message accordingly to the user."
   ]
  },
  {
   "cell_type": "code",
   "execution_count": 2,
   "metadata": {},
   "outputs": [
    {
     "name": "stdout",
     "output_type": "stream",
     "text": [
      "input string 1:silent\n",
      "input string 2:listen\n",
      "Anagram Strings\n"
     ]
    }
   ],
   "source": [
    "#Solution 3\n",
    "\n",
    "# take input\n",
    "s1 = input(\"input string 1:\")\n",
    "s2 = input(\"input string 2:\")\n",
    "\n",
    "#check anagram/palindrome condition\n",
    "\n",
    "if (s1 == s2):\n",
    "    print(\"Palindrome Strings\")\n",
    "    \n",
    "elif (sorted(s1)==sorted(s2)):\n",
    "      print(\"Anagram Strings\")\n",
    "        \n",
    "else:\n",
    "    print('Neither Palindrome nor Anagram Strings')"
   ]
  },
  {
   "cell_type": "markdown",
   "metadata": {},
   "source": [
    "<b>Question 4:\n",
    "Write a Python's user defined function that removes all the additional characters from the string\n",
    "and converts it finally to lower case using built-in lower(). eg: If the string is \"Dr. Darshan Ingle\n",
    "@AI-ML Trainer\", then the output be \"drdarshaningleaimltrainer\"."
   ]
  },
  {
   "cell_type": "code",
   "execution_count": 4,
   "metadata": {},
   "outputs": [
    {
     "name": "stdout",
     "output_type": "stream",
     "text": [
      "Dr. Darshan Ingle @AI-ML Trainer\n",
      " drdarshaningleaimltrainer\n"
     ]
    }
   ],
   "source": [
    "# taking input, initialize strings\n",
    "inputstr = str(input())\n",
    "outstr = ''\n",
    "omit = [\".\",\"@\",\"-\"]\n",
    "\n",
    "# user defined function that gives desired o/p\n",
    "\n",
    "def funct():\n",
    "    for char in inputstr:\n",
    "        if not char.isalnum():\n",
    "            outstr = inputstr.replace(char,\"\")\n",
    "            for i in omit:\n",
    "                outstr = outstr.replace(i, '')\n",
    "         \n",
    "    print(\"\" , outstr.lower())        \n",
    "        \n",
    "        \n",
    "funct()"
   ]
  },
  {
   "cell_type": "code",
   "execution_count": null,
   "metadata": {},
   "outputs": [],
   "source": []
  }
 ],
 "metadata": {
  "kernelspec": {
   "display_name": "Python 3",
   "language": "python",
   "name": "python3"
  },
  "language_info": {
   "codemirror_mode": {
    "name": "ipython",
    "version": 3
   },
   "file_extension": ".py",
   "mimetype": "text/x-python",
   "name": "python",
   "nbconvert_exporter": "python",
   "pygments_lexer": "ipython3",
   "version": "3.7.6"
  }
 },
 "nbformat": 4,
 "nbformat_minor": 4
}
