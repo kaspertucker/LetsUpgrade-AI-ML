{
 "cells": [
  {
   "cell_type": "markdown",
   "metadata": {},
   "source": [
    "<b>Question 1 :\n",
    "Research on whether addition, subtraction, multiplication, division, floor division and modulo\n",
    "operations be performed on complex numbers. Based on your study, implement a Python\n",
    "program to demonstrate these operations.</b>\n"
   ]
  },
  {
   "cell_type": "code",
   "execution_count": 1,
   "metadata": {},
   "outputs": [
    {
     "name": "stdout",
     "output_type": "stream",
     "text": [
      "Addition = (12+5j)\n",
      "Subtraction = (-2+1j)\n",
      "Multiplication = (29+31j)\n",
      "Division = (0.7735849056603773+0.2075471698113208j)\n",
      "Modulo operation 0.8009428406336273\n"
     ]
    },
    {
     "ename": "TypeError",
     "evalue": "can't take floor of complex number.",
     "output_type": "error",
     "traceback": [
      "\u001b[1;31m---------------------------------------------------------------------------\u001b[0m",
      "\u001b[1;31mTypeError\u001b[0m                                 Traceback (most recent call last)",
      "\u001b[1;32m<ipython-input-1-2e76509305b8>\u001b[0m in \u001b[0;36m<module>\u001b[1;34m\u001b[0m\n\u001b[0;32m      8\u001b[0m \u001b[0mprint\u001b[0m\u001b[1;33m(\u001b[0m\u001b[1;34m'Division ='\u001b[0m\u001b[1;33m,\u001b[0m \u001b[0mx\u001b[0m \u001b[1;33m/\u001b[0m \u001b[0my\u001b[0m\u001b[1;33m)\u001b[0m\u001b[1;33m\u001b[0m\u001b[1;33m\u001b[0m\u001b[0m\n\u001b[0;32m      9\u001b[0m \u001b[0mprint\u001b[0m\u001b[1;33m(\u001b[0m\u001b[1;34m'Modulo operation'\u001b[0m\u001b[1;33m,\u001b[0m \u001b[0mabs\u001b[0m\u001b[1;33m(\u001b[0m\u001b[0mx\u001b[0m\u001b[1;33m/\u001b[0m\u001b[0my\u001b[0m\u001b[1;33m)\u001b[0m\u001b[1;33m)\u001b[0m\u001b[1;31m# I don't think abs() function will give the modulo of complex numbers but still I gave it a try\u001b[0m\u001b[1;33m\u001b[0m\u001b[1;33m\u001b[0m\u001b[0m\n\u001b[1;32m---> 10\u001b[1;33m \u001b[0mprint\u001b[0m\u001b[1;33m(\u001b[0m\u001b[1;34m'Floor Division'\u001b[0m\u001b[1;33m,\u001b[0m \u001b[0mx\u001b[0m \u001b[1;33m//\u001b[0m \u001b[0my\u001b[0m\u001b[1;33m)\u001b[0m\u001b[1;31m# it says can't take floor of complex number.\u001b[0m\u001b[1;33m\u001b[0m\u001b[1;33m\u001b[0m\u001b[0m\n\u001b[0m",
      "\u001b[1;31mTypeError\u001b[0m: can't take floor of complex number."
     ]
    }
   ],
   "source": [
    "# Complex numbers arithmetic operations\n",
    "\n",
    "x = (5 + 3j)\n",
    "y = (7 + 2j)\n",
    "print('Addition =', x + y)\n",
    "print('Subtraction =', x - y)\n",
    "print('Multiplication =', x * y)\n",
    "print('Division =', x / y)\n",
    "print('Modulo operation', abs(x/y))# I don't think abs() function will give the modulo of complex numbers but still I gave it a try\n",
    "print('Floor Division', x // y)# it says can't take floor of complex number."
   ]
  },
  {
   "cell_type": "markdown",
   "metadata": {},
   "source": [
    "<b>Question 2 :\n",
    "Research on range() functions and its parameters. Create a markdown cell and write in your own\n",
    "words (no copy-paste from google please) what you understand about it. Implement a small\n",
    "program of your choice on the same."
   ]
  },
  {
   "cell_type": "code",
   "execution_count": 2,
   "metadata": {},
   "outputs": [],
   "source": [
    "# range()\n"
   ]
  },
  {
   "cell_type": "markdown",
   "metadata": {},
   "source": [
    "range() function in python\n",
    "\n",
    "○ From what I have understood, it is a built-in function as well as a sequence-type in python that seems to be immutable(no changes in order or elements).\n",
    "\n",
    "○ range() can be used for iterative tasks & loops, it accepts three arguments i.e. start, stop and step, all should be of int type.\n",
    "\n",
    "○ I tried calling range() with a single argument: - range(4), that gave me 0 to 3 as below:\n",
    "range(0, 4)\n",
    "[0, 1, 2, 3]\n",
    "\n",
    "○ Using all the arguments in range(), we can see below that the range starts from 0 and ends with 10 along with the third parameter step = 3, it will have he following output\n",
    "\n",
    "            \n",
    "    \n",
    "    \n",
    "    "
   ]
  },
  {
   "cell_type": "code",
   "execution_count": 3,
   "metadata": {},
   "outputs": [
    {
     "name": "stdout",
     "output_type": "stream",
     "text": [
      "0\n",
      "3\n",
      "6\n",
      "9\n"
     ]
    }
   ],
   "source": [
    "for i in range(0,10,3):\n",
    "    print(i)"
   ]
  },
  {
   "cell_type": "code",
   "execution_count": 4,
   "metadata": {},
   "outputs": [
    {
     "name": "stdout",
     "output_type": "stream",
     "text": [
      "zero 0\n",
      "un 1\n",
      "deux 2\n",
      "trois 3\n",
      "quatre 4\n",
      "cinq 5\n"
     ]
    }
   ],
   "source": [
    "#small program to print numbers in front of words in French\n",
    "\n",
    "nombres = ['zero', 'un', 'deux', 'trois', 'quatre', 'cinq']\n",
    "\n",
    "for i in range(len(nombres)):\n",
    "    print(nombres[i], i)"
   ]
  },
  {
   "cell_type": "markdown",
   "metadata": {},
   "source": [
    "<b>Question 3:\n",
    " Consider two numbers. Perform their subtraction and if the result of subtraction is greater than\n",
    "25, print their multiplication result else print their division result."
   ]
  },
  {
   "cell_type": "code",
   "execution_count": 5,
   "metadata": {},
   "outputs": [
    {
     "name": "stdout",
     "output_type": "stream",
     "text": [
      "10\n",
      "5\n",
      "2.0\n"
     ]
    }
   ],
   "source": [
    "# Solution to Question 3.\n",
    "\n",
    "\n",
    "\n",
    "# user input\n",
    "x = float(input())\n",
    "y = float(input())\n",
    "\n",
    "# arithmetic ops\n",
    "s = x - y\n",
    "m = x * y\n",
    "d = x / y\n",
    "\n",
    "# if statement\n",
    "if s>25:\n",
    "    print(m)\n",
    "else:\n",
    "    print(d)"
   ]
  },
  {
   "cell_type": "markdown",
   "metadata": {},
   "source": [
    "<b>Question 4:\n",
    "Consider a list of 10 elements of integer values. If the number in the list is divisible by 2, print the\n",
    "result as \"square of that number minus 2\".\n"
   ]
  },
  {
   "cell_type": "code",
   "execution_count": 6,
   "metadata": {},
   "outputs": [
    {
     "name": "stdout",
     "output_type": "stream",
     "text": [
      "14\n",
      "2\n",
      "62\n",
      "98\n",
      "34\n"
     ]
    }
   ],
   "source": [
    "# Solution to Question 4.\n",
    "\n",
    "# considered a list with following integers\n",
    "lst = [4,5,2,3,8,7,10,9,1,6]\n",
    "\n",
    "# loop & if statement\n",
    "for i in lst:\n",
    "    if (i%2) == 0:\n",
    "        print(i**2-2)"
   ]
  },
  {
   "cell_type": "markdown",
   "metadata": {},
   "source": [
    "<b>Question 5:\n",
    "Consider a list of 10 elements. Print all the elements in the list which are greater than 7 when that\n",
    "number is divided 2.\n"
   ]
  },
  {
   "cell_type": "code",
   "execution_count": 7,
   "metadata": {},
   "outputs": [
    {
     "name": "stdout",
     "output_type": "stream",
     "text": [
      "8\n",
      "10\n"
     ]
    }
   ],
   "source": [
    "# Solution 5\n",
    "\n",
    "# considering a list with following elements\n",
    "lst = [1,7,9,3,5,6,8,2,4,10]\n",
    "\n",
    "# conditional statement\n",
    "for i in lst:\n",
    "    if (i%2) == 0 and i>7:\n",
    "        print(i)"
   ]
  },
  {
   "cell_type": "code",
   "execution_count": null,
   "metadata": {},
   "outputs": [],
   "source": []
  }
 ],
 "metadata": {
  "kernelspec": {
   "display_name": "Python 3",
   "language": "python",
   "name": "python3"
  },
  "language_info": {
   "codemirror_mode": {
    "name": "ipython",
    "version": 3
   },
   "file_extension": ".py",
   "mimetype": "text/x-python",
   "name": "python",
   "nbconvert_exporter": "python",
   "pygments_lexer": "ipython3",
   "version": "3.7.6"
  }
 },
 "nbformat": 4,
 "nbformat_minor": 4
}
