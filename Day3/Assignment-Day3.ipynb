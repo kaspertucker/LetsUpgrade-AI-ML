{
 "cells": [
  {
   "cell_type": "code",
   "execution_count": 1,
   "metadata": {},
   "outputs": [
    {
     "name": "stdout",
     "output_type": "stream",
     "text": [
      "Input two complex/imaginary numbers\n",
      "5+6j\n",
      "2+3j\n",
      "Subtraction of two complex/imaginary numbers is = (3+3j)\n"
     ]
    }
   ],
   "source": [
    "\n",
    "\n",
    "# subtraction of two compex or imaginary numbers:\n",
    "\n",
    "print(\"Input two complex/imaginary numbers\")\n",
    "a = complex(input())\n",
    "b = complex(input())\n",
    "print(\"Subtraction of two complex/imaginary numbers is =\", a - b)"
   ]
  },
  {
   "cell_type": "code",
   "execution_count": 2,
   "metadata": {},
   "outputs": [
    {
     "name": "stdout",
     "output_type": "stream",
     "text": [
      "Input a number to get fourth root of it\n",
      "4096\n",
      "Fourth root of the entered number is 8.0\n"
     ]
    }
   ],
   "source": [
    "# finding fourth root of a number\n",
    "\n",
    "\n",
    "print(\"Input a number to get fourth root of it\")\n",
    "var = float(input())\n",
    "print(\"Fourth root of the entered number is\" , var**(1/4))\n",
    "\n"
   ]
  },
  {
   "cell_type": "code",
   "execution_count": 3,
   "metadata": {},
   "outputs": [
    {
     "name": "stdout",
     "output_type": "stream",
     "text": [
      "Let a be : 9\n",
      "Say b is : 3\n",
      "Now a has become  3\n",
      "Now b has become :  9\n"
     ]
    }
   ],
   "source": [
    "# swapping numbers using temp var\n",
    "\n",
    "\n",
    "# Input\n",
    "a = input('Let a be : ')\n",
    "b = input('Say b is : ')\n",
    "\n",
    "# using temporary variable var\n",
    "var = a\n",
    "a = b\n",
    "b = var\n",
    "\n",
    "print('Now a has become ', a)\n",
    "print('Now b has become : ', b) \n"
   ]
  },
  {
   "cell_type": "code",
   "execution_count": 4,
   "metadata": {},
   "outputs": [
    {
     "name": "stdout",
     "output_type": "stream",
     "text": [
      "Let a be6\n",
      "Say b is9\n",
      "a is now 9\n",
      "b is now 6\n"
     ]
    }
   ],
   "source": [
    "# swapping without third var\n",
    "\n",
    "# Input\n",
    "a = input('Let a be')\n",
    "b = input('Say b is')\n",
    "\n",
    "# swapping internally\n",
    "a, b = b, a\n",
    "\n",
    "\n",
    "print(\"a is now\", a)\n",
    "print(\"b is now\", b)\n"
   ]
  },
  {
   "cell_type": "code",
   "execution_count": 5,
   "metadata": {},
   "outputs": [
    {
     "name": "stdout",
     "output_type": "stream",
     "text": [
      "insert temperature in fahrenheit 90\n",
      "temperature in Celcius is 32.22222222222222\n",
      "temperature in Kelvin is 305.72222222222223\n"
     ]
    }
   ],
   "source": [
    "# temperature conversion\n",
    "\n",
    "# input fahrenheit\n",
    "\n",
    "f = float(input('insert temperature in fahrenheit '))\n",
    "\n",
    "#conversion formulas\n",
    "k = float(273.5 + ((f - 32.0) * (5/9)))\n",
    "c = float((f - 32) / 1.8)\n",
    "\n",
    "print ('temperature in Celcius is', c)\n",
    "print ('temperature in Kelvin is', k)\n"
   ]
  },
  {
   "cell_type": "code",
   "execution_count": 6,
   "metadata": {
    "scrolled": true
   },
   "outputs": [
    {
     "name": "stdout",
     "output_type": "stream",
     "text": [
      "<class 'int'>\n",
      "<class 'str'>\n",
      "<class 'tuple'>\n",
      "<class 'list'>\n",
      "<class 'float'>\n",
      "<class 'complex'>\n",
      "<class 'bool'>\n",
      "<class 'set'>\n",
      "<class 'dict'>\n"
     ]
    }
   ],
   "source": [
    "# datatypes\n",
    "\n",
    "var1 = 9\n",
    "print(type(var1))\n",
    "\n",
    "var2 = ('Hello World 123')\n",
    "print(type(var2))\n",
    "\n",
    "var3 = (1,2,3,4,5)\n",
    "print(type(var3))\n",
    "\n",
    "var4 = [1,2,3,4,5]\n",
    "print(type(var4))\n",
    "\n",
    "var5 = 9.0\n",
    "print(type(var5))\n",
    "\n",
    "var6 = (5+2j)\n",
    "print(type(var6))\n",
    "\n",
    "var7 = (3<5)\n",
    "print(type(var7))\n",
    "\n",
    "var8 = {1,4,2,3,4,5,6,7,5,4,3}\n",
    "print(type(var8))\n",
    "\n",
    "var9 = {3:'int','s':'str'}\n",
    "print(type(var9))\n"
   ]
  },
  {
   "cell_type": "markdown",
   "metadata": {},
   "source": [
    "Solution to Question 8. <br>\n",
    "<br> Steps discussed in the session by Dr. Darshan\n",
    "Ingle sir for creating Github profile & upload assignments:\n",
    "\n",
    "\n",
    "♦ First sign in/sign up for GitHub  <br>\n",
    "♦ Create a repository <br>\n",
    "♦ Name the repo as \"LetsUpgrade AI-ML\" <br>\n",
    "♦ Do not touch anything under (i.e. public/private radio buttons), leave it as it is. <br>\n",
    "♦ Upload directories to the created repo from local machine to GitHub <br>\n",
    "♦ Go to the directory where the file has been uploaded <br>\n",
    "♦ Copy the URL & paste it into Google forms. \n"
   ]
  },
  {
   "cell_type": "code",
   "execution_count": null,
   "metadata": {},
   "outputs": [],
   "source": []
  },
  {
   "cell_type": "code",
   "execution_count": null,
   "metadata": {},
   "outputs": [],
   "source": []
  }
 ],
 "metadata": {
  "kernelspec": {
   "display_name": "Python 3",
   "language": "python",
   "name": "python3"
  },
  "language_info": {
   "codemirror_mode": {
    "name": "ipython",
    "version": 3
   },
   "file_extension": ".py",
   "mimetype": "text/x-python",
   "name": "python",
   "nbconvert_exporter": "python",
   "pygments_lexer": "ipython3",
   "version": "3.7.6"
  }
 },
 "nbformat": 4,
 "nbformat_minor": 4
}
