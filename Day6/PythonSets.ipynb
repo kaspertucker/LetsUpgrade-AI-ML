{
 "cells": [
  {
   "cell_type": "markdown",
   "metadata": {},
   "source": [
    "Sets\n",
    "--\n",
    "> Set is an unordered collection and does not record element position or order of insertion\n",
    "\n",
    " > Sets do not support indexing, slicing."
   ]
  },
  {
   "cell_type": "code",
   "execution_count": 15,
   "metadata": {},
   "outputs": [
    {
     "name": "stdout",
     "output_type": "stream",
     "text": [
      "{}\n"
     ]
    }
   ],
   "source": [
    "# empty set\n",
    "\n",
    "set1 = {}\n",
    "print(set1)"
   ]
  },
  {
   "cell_type": "code",
   "execution_count": 4,
   "metadata": {},
   "outputs": [
    {
     "name": "stdout",
     "output_type": "stream",
     "text": [
      "{'2', 'fgh', 'abc'}\n"
     ]
    }
   ],
   "source": [
    "# set with some values\n",
    "\n",
    "set2 = {'abc','2','fgh'}\n",
    "print(set2)"
   ]
  },
  {
   "cell_type": "code",
   "execution_count": 5,
   "metadata": {},
   "outputs": [
    {
     "name": "stdout",
     "output_type": "stream",
     "text": [
      "{1, 'Machine', 22.33}\n",
      "<class 'set'>\n"
     ]
    }
   ],
   "source": [
    "# set type \n",
    "\n",
    "set3 = {1,22.33,\"Machine\"}\n",
    "\n",
    "print(set3)\n",
    "\n",
    "print(type(set3))"
   ]
  },
  {
   "cell_type": "code",
   "execution_count": 6,
   "metadata": {},
   "outputs": [
    {
     "name": "stdout",
     "output_type": "stream",
     "text": [
      "LU\n",
      "lets\n",
      "upgrade\n"
     ]
    }
   ],
   "source": [
    "# traversing a set\n",
    "\n",
    "set4 = {\"lets\", \"upgrade\", \"LU\"}\n",
    "\n",
    "for i in set4:\n",
    "  print(i)"
   ]
  },
  {
   "cell_type": "code",
   "execution_count": 7,
   "metadata": {},
   "outputs": [
    {
     "name": "stdout",
     "output_type": "stream",
     "text": [
      "True\n"
     ]
    }
   ],
   "source": [
    "# check if value present in set\n",
    "\n",
    "set5 = {\"lets\", \"upgrade\", \"LU\"}\n",
    " \n",
    "print(\"LU\" in set5)"
   ]
  },
  {
   "cell_type": "code",
   "execution_count": 8,
   "metadata": {},
   "outputs": [
    {
     "name": "stdout",
     "output_type": "stream",
     "text": [
      "{'LU', 'lets', 'community', 'upgrade'}\n"
     ]
    }
   ],
   "source": [
    "# update Set by using add\n",
    "\n",
    "set5.add(\"community\")\n",
    "\n",
    "print(set5)\n"
   ]
  },
  {
   "cell_type": "code",
   "execution_count": 9,
   "metadata": {},
   "outputs": [
    {
     "name": "stdout",
     "output_type": "stream",
     "text": [
      "{'update', 'community', 'lets', 'random', 'LU', 'words', 'upgrade'}\n"
     ]
    }
   ],
   "source": [
    "# update Set by using update\n",
    "\n",
    "set5.update([\"random\", \"words\", \"update\"])\n",
    "\n",
    "print(set5)"
   ]
  },
  {
   "cell_type": "code",
   "execution_count": 10,
   "metadata": {},
   "outputs": [
    {
     "name": "stdout",
     "output_type": "stream",
     "text": [
      "7\n"
     ]
    }
   ],
   "source": [
    "# len\n",
    "\n",
    "print(len(set5))"
   ]
  },
  {
   "cell_type": "code",
   "execution_count": 13,
   "metadata": {},
   "outputs": [
    {
     "name": "stdout",
     "output_type": "stream",
     "text": [
      "{'update', 'lets', 'LU', 'upgrade'}\n"
     ]
    }
   ],
   "source": [
    "# remove using random & discard\n",
    "\n",
    "set5.remove(\"community\")\n",
    "set5.discard(\"words\")\n",
    "print(set5)\n"
   ]
  },
  {
   "cell_type": "code",
   "execution_count": 18,
   "metadata": {},
   "outputs": [
    {
     "name": "stdout",
     "output_type": "stream",
     "text": [
      "{'100', 'e', 's'}\n"
     ]
    }
   ],
   "source": [
    "# join sets\n",
    "\n",
    "set1 = {'s'}\n",
    "set2 = {'e'}\n",
    "set5 = {'100'}\n",
    "\n",
    "set7 = set1.union(set2)\n",
    "\n",
    "set7.update(set5)\n",
    "\n",
    "print(set7)"
   ]
  },
  {
   "cell_type": "code",
   "execution_count": 19,
   "metadata": {},
   "outputs": [
    {
     "name": "stdout",
     "output_type": "stream",
     "text": [
      "{'100', 'e', 's'}\n",
      "set()\n"
     ]
    }
   ],
   "source": [
    "# clearnig the set\n",
    "\n",
    "print(set7)\n",
    "\n",
    "set7.clear()\n",
    "\n",
    "print(set7)"
   ]
  },
  {
   "cell_type": "code",
   "execution_count": 31,
   "metadata": {},
   "outputs": [
    {
     "name": "stdout",
     "output_type": "stream",
     "text": [
      "{'e'}\n",
      "{'set'}\n"
     ]
    }
   ],
   "source": [
    "# set intersect\n",
    "\n",
    "set7.add(\"set\")\n",
    "\n",
    "set2.intersection(set7)\n",
    "\n",
    "print(set2)\n",
    "print(set7)\n"
   ]
  },
  {
   "cell_type": "code",
   "execution_count": 27,
   "metadata": {},
   "outputs": [
    {
     "data": {
      "text/plain": [
       "False"
      ]
     },
     "execution_count": 27,
     "metadata": {},
     "output_type": "execute_result"
    }
   ],
   "source": [
    "# check if superset/subset\n",
    "\n",
    "set7.issuperset(set2)"
   ]
  },
  {
   "cell_type": "code",
   "execution_count": 32,
   "metadata": {},
   "outputs": [
    {
     "data": {
      "text/plain": [
       "{'LU', 'lets', 'set', 'upgrade'}"
      ]
     },
     "execution_count": 32,
     "metadata": {},
     "output_type": "execute_result"
    }
   ],
   "source": [
    "# symmetric difference\n",
    "\n",
    "set4.symmetric_difference(set7)"
   ]
  },
  {
   "cell_type": "code",
   "execution_count": null,
   "metadata": {},
   "outputs": [],
   "source": []
  }
 ],
 "metadata": {
  "kernelspec": {
   "display_name": "Python 3",
   "language": "python",
   "name": "python3"
  },
  "language_info": {
   "codemirror_mode": {
    "name": "ipython",
    "version": 3
   },
   "file_extension": ".py",
   "mimetype": "text/x-python",
   "name": "python",
   "nbconvert_exporter": "python",
   "pygments_lexer": "ipython3",
   "version": "3.7.6"
  },
  "toc": {
   "base_numbering": 1,
   "nav_menu": {},
   "number_sections": true,
   "sideBar": true,
   "skip_h1_title": false,
   "title_cell": "Table of Contents",
   "title_sidebar": "Contents",
   "toc_cell": false,
   "toc_position": {},
   "toc_section_display": true,
   "toc_window_display": false
  }
 },
 "nbformat": 4,
 "nbformat_minor": 2
}
