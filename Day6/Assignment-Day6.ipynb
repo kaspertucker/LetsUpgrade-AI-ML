{
 "cells": [
  {
   "cell_type": "markdown",
   "metadata": {},
   "source": [
    "<b> Question 1:\n",
    "Assuming that we have some email addresses in the \"username@companyname.com\" format, please write program\n",
    "to print the company name of a given email address. Both user names and company names are composed of letters\n",
    "only."
   ]
  },
  {
   "cell_type": "code",
   "execution_count": 1,
   "metadata": {},
   "outputs": [
    {
     "name": "stdout",
     "output_type": "stream",
     "text": [
      "kaustubh@OdysseusSolutions.com\n",
      "OdysseusSolutions\n"
     ]
    }
   ],
   "source": [
    "# storing input to a var\n",
    "var = input()\n",
    "\n",
    "# splitting at @\n",
    "splt1 = var.split('@')\n",
    "\n",
    "# another split of 1st element of the remaining part of splt1 for removing .\n",
    "splt2 = (splt1[1].split('.'))\n",
    "\n",
    "# printing 0th element\n",
    "print(splt2[0])"
   ]
  },
  {
   "cell_type": "markdown",
   "metadata": {},
   "source": [
    "<b> Question 2:\n",
    "Write a program that accepts a comma-separated sequence of words as input and prints the words in a comma\n",
    "separated sequence after sorting them alphabetically.\n"
   ]
  },
  {
   "cell_type": "code",
   "execution_count": 2,
   "metadata": {},
   "outputs": [
    {
     "name": "stdout",
     "output_type": "stream",
     "text": [
      "without,hello,bag,world\n",
      "bag,hello,without,world\n"
     ]
    }
   ],
   "source": [
    "# store csv into a var\n",
    "var = input()\n",
    "\n",
    "# using split method for set input\n",
    "splt = var.split(',')\n",
    "\n",
    "# print the sorted words\n",
    "print(','.join(sorted(list(set(splt)))))"
   ]
  },
  {
   "cell_type": "markdown",
   "metadata": {},
   "source": [
    "<b> Question 3:\n",
    "Create your own Jupyter Notebook for Sets.\n",
    "    \n",
    "    \n",
    " <i>  Solution is in another notebook named as PythonSets.ipynb </i>\n"
   ]
  },
  {
   "cell_type": "markdown",
   "metadata": {},
   "source": [
    "<b> Question 4: Given a list of n-1 numbers ranging from 1 to n, your task is to find the missing number. There are no duplicates."
   ]
  },
  {
   "cell_type": "code",
   "execution_count": 3,
   "metadata": {},
   "outputs": [
    {
     "name": "stdout",
     "output_type": "stream",
     "text": [
      "0 1 2 4 6 3 7 8\n",
      "5 "
     ]
    }
   ],
   "source": [
    "\n",
    "# taking input\n",
    "lst = list(map(int, input().split()))\n",
    "\n",
    "for i in range(max(lst)+1):\n",
    "      if i not in lst:\n",
    "        print(i, end = \" \")"
   ]
  },
  {
   "cell_type": "markdown",
   "metadata": {},
   "source": [
    "<b> Question 5:\n",
    "With a given list L, write a program to print this list L after removing all duplicate values with original order reserved."
   ]
  },
  {
   "cell_type": "code",
   "execution_count": 4,
   "metadata": {},
   "outputs": [
    {
     "name": "stdout",
     "output_type": "stream",
     "text": [
      "12 24 35 24\n",
      "12 24 35 "
     ]
    }
   ],
   "source": [
    "# masking the input to set \n",
    "\n",
    "l = set(map(int, input().split()))\n",
    "\n",
    "\n",
    "for item in sorted(l):\n",
    "    print(item, end = \" \")\n",
    "    "
   ]
  },
  {
   "cell_type": "code",
   "execution_count": null,
   "metadata": {},
   "outputs": [],
   "source": []
  }
 ],
 "metadata": {
  "kernelspec": {
   "display_name": "Python 3",
   "language": "python",
   "name": "python3"
  },
  "language_info": {
   "codemirror_mode": {
    "name": "ipython",
    "version": 3
   },
   "file_extension": ".py",
   "mimetype": "text/x-python",
   "name": "python",
   "nbconvert_exporter": "python",
   "pygments_lexer": "ipython3",
   "version": "3.7.6"
  }
 },
 "nbformat": 4,
 "nbformat_minor": 4
}
